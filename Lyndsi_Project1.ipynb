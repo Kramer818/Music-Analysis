{
 "cells": [
  {
   "cell_type": "code",
   "execution_count": 21,
   "metadata": {},
   "outputs": [],
   "source": [
    "import pandas as pd\n",
    "import matplotlib.pyplot as plt\n",
    "import numpy as np\n",
    "\n",
    "music_data = pd.read_csv(\"Resources/top10s.csv\", encoding = \"ISO-8859-1\")"
   ]
  },
  {
   "cell_type": "code",
   "execution_count": 22,
   "metadata": {},
   "outputs": [],
   "source": [
    "music_df = pd.DataFrame(music_data)\n"
   ]
  },
  {
   "cell_type": "code",
   "execution_count": 42,
   "metadata": {},
   "outputs": [],
   "source": [
    "columns = {\"title\": \"Title\", \"artist\": \"Artist\", \"top genre\": \"Top Genre\", \"year\": \"Year\", \"bpm\": \"Beats per Minute (BPM)\", \n",
    "           \"nrgy\": \"Energy\", \"dnce\": \"Danceability\", \"dB\": \"Loudness (dB)\", \"live\": \"Liveness\", \"val\": \"Valence\", \n",
    "           \"dur\": \"Duration (sec)\", \"acous\": \"Acousticness\", \"spch\": \"Speechiness\", \"pop\": \"Popularity\"}\n",
    "\n",
    "clean_music_df = music_df.rename(columns = columns)\n"
   ]
  },
  {
   "cell_type": "code",
   "execution_count": 24,
   "metadata": {},
   "outputs": [],
   "source": [
    "#Only focused on the colums that are important: Made a DF\n",
    "music_subset_data_df=pd.DataFrame(clean_music_df,columns=['Title','Artist','Year','Energy',\n",
    "                                                          'Danceability','Valence','Popularity','Top Genre'])\n"
   ]
  },
  {
   "cell_type": "code",
   "execution_count": 25,
   "metadata": {},
   "outputs": [],
   "source": [
    "#Changed all subgenres of 'pop' to pop\n",
    "music_subset_data_df['Top Genre'] = music_subset_data_df['Top Genre'].replace(\n",
    "    {\"acoustic pop\":\"pop\",\n",
    "\"art pop\":\"pop\",\n",
    "\"australian pop\":\"pop\",\"barbadian pop\":\"pop\",\"baroque pop\":\"pop\",\n",
    "     \"canadian pop\":\"pop\",\"candy pop\":\"pop\",\"colombian pop\":\"pop\",\n",
    "     \"dance pop\":\"pop\",\"danish pop\":\"pop\",\"electropop\":\"pop\",\n",
    "     \"folk-pop\":\"pop\",\"french indie pop\":\"pop\",\"hip pop\":\"pop\",\n",
    "     \"indie pop\":\"pop\",\"moroccan pop\":\"pop\"})\n"
   ]
  },
  {
   "cell_type": "code",
   "execution_count": 43,
   "metadata": {},
   "outputs": [
    {
     "data": {
      "text/html": [
       "<div>\n",
       "<style scoped>\n",
       "    .dataframe tbody tr th:only-of-type {\n",
       "        vertical-align: middle;\n",
       "    }\n",
       "\n",
       "    .dataframe tbody tr th {\n",
       "        vertical-align: top;\n",
       "    }\n",
       "\n",
       "    .dataframe thead th {\n",
       "        text-align: right;\n",
       "    }\n",
       "</style>\n",
       "<table border=\"1\" class=\"dataframe\">\n",
       "  <thead>\n",
       "    <tr style=\"text-align: right;\">\n",
       "      <th></th>\n",
       "      <th>Energy</th>\n",
       "      <th>Danceability</th>\n",
       "      <th>Valence</th>\n",
       "      <th>Popularity</th>\n",
       "    </tr>\n",
       "    <tr>\n",
       "      <th>Year</th>\n",
       "      <th></th>\n",
       "      <th></th>\n",
       "      <th></th>\n",
       "      <th></th>\n",
       "    </tr>\n",
       "  </thead>\n",
       "  <tbody>\n",
       "    <tr>\n",
       "      <th>2010</th>\n",
       "      <td>77.901961</td>\n",
       "      <td>64.529412</td>\n",
       "      <td>57.000000</td>\n",
       "      <td>64.254902</td>\n",
       "    </tr>\n",
       "    <tr>\n",
       "      <th>2011</th>\n",
       "      <td>74.886792</td>\n",
       "      <td>63.641509</td>\n",
       "      <td>53.698113</td>\n",
       "      <td>61.867925</td>\n",
       "    </tr>\n",
       "    <tr>\n",
       "      <th>2012</th>\n",
       "      <td>75.485714</td>\n",
       "      <td>65.714286</td>\n",
       "      <td>64.171429</td>\n",
       "      <td>67.771429</td>\n",
       "    </tr>\n",
       "    <tr>\n",
       "      <th>2013</th>\n",
       "      <td>73.873239</td>\n",
       "      <td>62.042254</td>\n",
       "      <td>53.183099</td>\n",
       "      <td>63.985915</td>\n",
       "    </tr>\n",
       "    <tr>\n",
       "      <th>2014</th>\n",
       "      <td>67.775862</td>\n",
       "      <td>62.534483</td>\n",
       "      <td>52.086207</td>\n",
       "      <td>62.706897</td>\n",
       "    </tr>\n",
       "    <tr>\n",
       "      <th>2015</th>\n",
       "      <td>70.336842</td>\n",
       "      <td>63.663158</td>\n",
       "      <td>52.526316</td>\n",
       "      <td>64.568421</td>\n",
       "    </tr>\n",
       "    <tr>\n",
       "      <th>2016</th>\n",
       "      <td>67.237500</td>\n",
       "      <td>63.325000</td>\n",
       "      <td>45.150000</td>\n",
       "      <td>64.162500</td>\n",
       "    </tr>\n",
       "    <tr>\n",
       "      <th>2017</th>\n",
       "      <td>69.169231</td>\n",
       "      <td>65.369231</td>\n",
       "      <td>52.276923</td>\n",
       "      <td>69.015385</td>\n",
       "    </tr>\n",
       "    <tr>\n",
       "      <th>2018</th>\n",
       "      <td>65.468750</td>\n",
       "      <td>67.203125</td>\n",
       "      <td>48.765625</td>\n",
       "      <td>72.437500</td>\n",
       "    </tr>\n",
       "    <tr>\n",
       "      <th>2019</th>\n",
       "      <td>64.741935</td>\n",
       "      <td>69.709677</td>\n",
       "      <td>50.806452</td>\n",
       "      <td>84.354839</td>\n",
       "    </tr>\n",
       "  </tbody>\n",
       "</table>\n",
       "</div>"
      ],
      "text/plain": [
       "         Energy  Danceability    Valence  Popularity\n",
       "Year                                                \n",
       "2010  77.901961     64.529412  57.000000   64.254902\n",
       "2011  74.886792     63.641509  53.698113   61.867925\n",
       "2012  75.485714     65.714286  64.171429   67.771429\n",
       "2013  73.873239     62.042254  53.183099   63.985915\n",
       "2014  67.775862     62.534483  52.086207   62.706897\n",
       "2015  70.336842     63.663158  52.526316   64.568421\n",
       "2016  67.237500     63.325000  45.150000   64.162500\n",
       "2017  69.169231     65.369231  52.276923   69.015385\n",
       "2018  65.468750     67.203125  48.765625   72.437500\n",
       "2019  64.741935     69.709677  50.806452   84.354839"
      ]
     },
     "execution_count": 43,
     "metadata": {},
     "output_type": "execute_result"
    }
   ],
   "source": [
    "#Averages of the DataFrame\n",
    "avg_music_data_by_year_df=music_subset_data_df.groupby('Year').mean()\n",
    "avg_music_data_by_year_df"
   ]
  },
  {
   "cell_type": "code",
   "execution_count": 27,
   "metadata": {},
   "outputs": [],
   "source": [
    "#Indexed by genre and defined pop variables\n",
    "genre_indexed = music_subset_data_df.set_index(\"Top Genre\")\n",
    "\n",
    "\n",
    "pop_valence = genre_indexed.loc[\"pop\", \"Valence\"]\n",
    "\n",
    "pop_energy = genre_indexed.loc[\"pop\", \"Energy\"]\n",
    "\n",
    "pop_danceability = genre_indexed.loc[\"pop\", \"Danceability\"]\n",
    "\n",
    "pop_popularity = genre_indexed.loc[\"pop\", \"Popularity\"]\n"
   ]
  },
  {
   "cell_type": "code",
   "execution_count": 28,
   "metadata": {},
   "outputs": [],
   "source": [
    "# genres = music_genre_group[\"Top Genre\"].unique()\n",
    "# no_pop_genres = ['alaska indie', 'alternative r&b', 'atl hip hop', \n",
    "#                  'australian dance', 'australian hip hop', 'belgian edm', \n",
    "#                  'big room', 'boy band', 'british soul', 'brostep',\n",
    "#                  'canadian contemporary r&b', 'canadian hip hop', 'canadian latin', \n",
    "#                  'celtic rock', 'chicago rap', 'complextro', 'contemporary country',\n",
    "#                  'detroit hip hop', 'downtempo', 'edm', 'electro', 'electro house', \n",
    "#                  'electronic trap', 'escape room', 'hip hop', 'hollywood', 'house', \n",
    "#                  'irish singer-songwriter', 'latin', 'metropopolis', 'neo mellow',\n",
    "#                  'permanent wave', 'tropical house']"
   ]
  },
  {
   "cell_type": "code",
   "execution_count": null,
   "metadata": {},
   "outputs": [],
   "source": []
  },
  {
   "cell_type": "code",
   "execution_count": 54,
   "metadata": {},
   "outputs": [
    {
     "data": {
      "text/html": [
       "<div>\n",
       "<style scoped>\n",
       "    .dataframe tbody tr th:only-of-type {\n",
       "        vertical-align: middle;\n",
       "    }\n",
       "\n",
       "    .dataframe tbody tr th {\n",
       "        vertical-align: top;\n",
       "    }\n",
       "\n",
       "    .dataframe thead th {\n",
       "        text-align: right;\n",
       "    }\n",
       "</style>\n",
       "<table border=\"1\" class=\"dataframe\">\n",
       "  <thead>\n",
       "    <tr style=\"text-align: right;\">\n",
       "      <th></th>\n",
       "      <th>Energy</th>\n",
       "      <th>Danceability</th>\n",
       "      <th>Valence</th>\n",
       "      <th>Popularity</th>\n",
       "    </tr>\n",
       "    <tr>\n",
       "      <th>Year</th>\n",
       "      <th></th>\n",
       "      <th></th>\n",
       "      <th></th>\n",
       "      <th></th>\n",
       "    </tr>\n",
       "  </thead>\n",
       "  <tbody>\n",
       "    <tr>\n",
       "      <th>2010</th>\n",
       "      <td>87.833333</td>\n",
       "      <td>66.333333</td>\n",
       "      <td>57.500000</td>\n",
       "      <td>56.333333</td>\n",
       "    </tr>\n",
       "    <tr>\n",
       "      <th>2011</th>\n",
       "      <td>66.000000</td>\n",
       "      <td>59.250000</td>\n",
       "      <td>37.000000</td>\n",
       "      <td>69.500000</td>\n",
       "    </tr>\n",
       "    <tr>\n",
       "      <th>2012</th>\n",
       "      <td>72.750000</td>\n",
       "      <td>62.750000</td>\n",
       "      <td>50.250000</td>\n",
       "      <td>76.250000</td>\n",
       "    </tr>\n",
       "    <tr>\n",
       "      <th>2013</th>\n",
       "      <td>74.562500</td>\n",
       "      <td>59.812500</td>\n",
       "      <td>49.500000</td>\n",
       "      <td>66.000000</td>\n",
       "    </tr>\n",
       "    <tr>\n",
       "      <th>2014</th>\n",
       "      <td>59.133333</td>\n",
       "      <td>53.933333</td>\n",
       "      <td>38.666667</td>\n",
       "      <td>62.600000</td>\n",
       "    </tr>\n",
       "    <tr>\n",
       "      <th>2015</th>\n",
       "      <td>67.888889</td>\n",
       "      <td>56.888889</td>\n",
       "      <td>36.666667</td>\n",
       "      <td>67.944444</td>\n",
       "    </tr>\n",
       "    <tr>\n",
       "      <th>2016</th>\n",
       "      <td>58.176471</td>\n",
       "      <td>54.941176</td>\n",
       "      <td>38.235294</td>\n",
       "      <td>57.882353</td>\n",
       "    </tr>\n",
       "    <tr>\n",
       "      <th>2017</th>\n",
       "      <td>69.100000</td>\n",
       "      <td>59.850000</td>\n",
       "      <td>45.650000</td>\n",
       "      <td>68.100000</td>\n",
       "    </tr>\n",
       "    <tr>\n",
       "      <th>2018</th>\n",
       "      <td>65.222222</td>\n",
       "      <td>63.444444</td>\n",
       "      <td>43.444444</td>\n",
       "      <td>72.666667</td>\n",
       "    </tr>\n",
       "    <tr>\n",
       "      <th>2019</th>\n",
       "      <td>71.400000</td>\n",
       "      <td>76.200000</td>\n",
       "      <td>58.800000</td>\n",
       "      <td>85.000000</td>\n",
       "    </tr>\n",
       "  </tbody>\n",
       "</table>\n",
       "</div>"
      ],
      "text/plain": [
       "         Energy  Danceability    Valence  Popularity\n",
       "Year                                                \n",
       "2010  87.833333     66.333333  57.500000   56.333333\n",
       "2011  66.000000     59.250000  37.000000   69.500000\n",
       "2012  72.750000     62.750000  50.250000   76.250000\n",
       "2013  74.562500     59.812500  49.500000   66.000000\n",
       "2014  59.133333     53.933333  38.666667   62.600000\n",
       "2015  67.888889     56.888889  36.666667   67.944444\n",
       "2016  58.176471     54.941176  38.235294   57.882353\n",
       "2017  69.100000     59.850000  45.650000   68.100000\n",
       "2018  65.222222     63.444444  43.444444   72.666667\n",
       "2019  71.400000     76.200000  58.800000   85.000000"
      ]
     },
     "execution_count": 54,
     "metadata": {},
     "output_type": "execute_result"
    }
   ],
   "source": [
    "#Made a DF with no pop songs\n",
    "\n",
    "no_pop = genre_indexed.drop('pop')\n",
    "no_pop_df = pd.DataFrame(no_pop)\n",
    "\n",
    "\n",
    "no_pop_df_grouped = no_pop_df.groupby('Year')\n",
    "no_pop_means = no_pop_df_grouped.mean()\n",
    "no_pop_means_df = pd.DataFrame(no_pop_means)\n",
    "no_pop_means_df"
   ]
  },
  {
   "cell_type": "code",
   "execution_count": 56,
   "metadata": {},
   "outputs": [
    {
     "data": {
      "text/plain": [
       "Year\n",
       "2010    57.500000\n",
       "2011    37.000000\n",
       "2012    50.250000\n",
       "2013    49.500000\n",
       "2014    38.666667\n",
       "2015    36.666667\n",
       "2016    38.235294\n",
       "2017    45.650000\n",
       "2018    43.444444\n",
       "2019    58.800000\n",
       "Name: Valence, dtype: float64"
      ]
     },
     "execution_count": 56,
     "metadata": {},
     "output_type": "execute_result"
    }
   ],
   "source": [
    "#Defined Variables: \n",
    "pval_mean = pop_valence.mean()\n",
    "pnrg_mean = pop_energy.mean()\n",
    "pdance_mean = pop_danceability.mean()\n",
    "\n",
    "\n",
    "all_valence = avg_music_data_by_year_df[\"Valence\"]\n",
    "all_nrg = avg_music_data_by_year_df[\"Energy\"]\n",
    "all_dance = avg_music_data_by_year_df[\"Danceability\"]\n",
    "\n",
    "\n",
    "no_pop_val = no_pop_means_df[\"Valence\"]\n",
    "no_pop_nrg = no_pop_means_df[\"Energy\"]\n",
    "no_pop_dance = no_pop_means_df[\"Danceability\"]\n",
    "\n",
    "years = [2010,2011,2012,2013,2014,2015,2016,2017,2018,2019]\n",
    "\n",
    "\n"
   ]
  },
  {
   "cell_type": "code",
   "execution_count": 61,
   "metadata": {
    "scrolled": true
   },
   "outputs": [
    {
     "data": {
      "image/png": "[encoded data removed]",
      "text/plain": [
       "<Figure size 432x288 with 1 Axes>"
      ]
     },
     "metadata": {
      "needs_background": "light"
     },
     "output_type": "display_data"
    }
   ],
   "source": [
    "avg_valence_df = pd.DataFrame({\"Pop\": pval_mean,\"Other Genres Valence\":no_pop_val, \"All Valence\":all_valence}, index=years)\n",
    "avg_valence_df.plot.bar()\n",
    "plt.savefig(\"ValenceCompare.png\")"
   ]
  },
  {
   "cell_type": "code",
   "execution_count": 59,
   "metadata": {},
   "outputs": [
    {
     "data": {
      "text/plain": [
       "<matplotlib.axes._subplots.AxesSubplot at 0x2d29e149278>"
      ]
     },
     "execution_count": 59,
     "metadata": {},
     "output_type": "execute_result"
    },
    {
     "data": {
      "image/png": "[encoded data removed]",
      "text/plain": [
       "<Figure size 432x288 with 1 Axes>"
      ]
     },
     "metadata": {
      "needs_background": "light"
     },
     "output_type": "display_data"
    }
   ],
   "source": [
    "avg_energy_df = pd.DataFrame({\"Pop Energy\": pnrg_mean,\"Other Genres Energy\":no_pop_nrg, \"All Energy\":all_nrg}, index=years)\n",
    "avg_energy_df.plot.bar()\n",
    "plt.savefig(\"EnergyCompare.png\")"
   ]
  },
  {
   "cell_type": "code",
   "execution_count": 60,
   "metadata": {},
   "outputs": [
    {
     "data": {
      "text/plain": [
       "<matplotlib.axes._subplots.AxesSubplot at 0x2d29e200908>"
      ]
     },
     "execution_count": 60,
     "metadata": {},
     "output_type": "execute_result"
    },
    {
     "data": {
      "image/png": "[encoded data removed]",
      "text/plain": [
       "<Figure size 432x288 with 1 Axes>"
      ]
     },
     "metadata": {
      "needs_background": "light"
     },
     "output_type": "display_data"
    }
   ],
   "source": [
    "avg_dance_df = pd.DataFrame({\"Pop Danceability\": pdance_mean, \"Other Genre Danceability\":no_pop_dance,\n",
    "                             \"All Danceability\":all_dance}, index=years)\n",
    "avg_dance_df.plot.bar()"
   ]
  },
  {
   "cell_type": "code",
   "execution_count": null,
   "metadata": {},
   "outputs": [],
   "source": []
  }
 ],
 "metadata": {
  "kernelspec": {
   "display_name": "Python 3",
   "language": "python",
   "name": "python3"
  },
  "language_info": {
   "codemirror_mode": {
    "name": "ipython",
    "version": 3
   },
   "file_extension": ".py",
   "mimetype": "text/x-python",
   "name": "python",
   "nbconvert_exporter": "python",
   "pygments_lexer": "ipython3",
   "version": "3.6.9"
  }
 },
 "nbformat": 4,
 "nbformat_minor": 4
}
